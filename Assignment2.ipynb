{
 "cells": [
  {
   "cell_type": "markdown",
   "metadata": {},
   "source": [
    "Topic –  Python(Loops, List Comprehension and functions)  "
   ]
  },
  {
   "cell_type": "markdown",
   "metadata": {},
   "source": [
    "1. Write a function pascals_triangle(rows) that prints the first rows of \n",
    "Pascal’s Triangle using nested for loops. \n",
    "pascals_triangle(5)   \n",
    "Output: \n",
    "    1 \n",
    "   1 1 \n",
    "  1 2 1 \n",
    " 1 3 3 1 \n",
    "1 4 6 4 1"
   ]
  },
  {
   "cell_type": "code",
   "execution_count": 18,
   "metadata": {},
   "outputs": [],
   "source": [
    "def pascals_triangle(row):\n",
    "    \n",
    "    for i in range(1,row+1):\n",
    "        for j in range(1,row+1-i):\n",
    "            print(end=\" \")\n",
    "        a=1    \n",
    "        for k in range(1,i+1):\n",
    "            print(a,end=\" \")\n",
    "            a=a*(i-k)//k\n",
    "            \n",
    "        \n",
    "        print()\n",
    "        "
   ]
  },
  {
   "cell_type": "code",
   "execution_count": 19,
   "metadata": {},
   "outputs": [
    {
     "name": "stdout",
     "output_type": "stream",
     "text": [
      "    1 \n",
      "   1 1 \n",
      "  1 2 1 \n",
      " 1 3 3 1 \n",
      "1 4 6 4 1 \n"
     ]
    }
   ],
   "source": [
    "pascals_triangle(5)"
   ]
  },
  {
   "cell_type": "markdown",
   "metadata": {},
   "source": [
    "Q.2. Explain how the `continue` statement works in a loop. What are some \n",
    "scenarios where using `continue` is more beneficial than restructuring \n",
    "the loop?"
   ]
  },
  {
   "cell_type": "code",
   "execution_count": 20,
   "metadata": {},
   "outputs": [
    {
     "data": {
      "text/plain": [
       "' \\nHow the continue Statement Works in a Loop:\\nThe continue statement in Python is used to skip the remaining code inside the loop for the current iteration and move directly to the next iteration of the loop.\\n\\nWhen continue is More Beneficial:\\nUsing continue can improve code readability and efficiency in scenarios where skipping specific iterations is necessary. Some examples include:\\n\\nSkipping Specific Values in a Loop\\nSkipping Empty or Invalid Inputs\\nReducing Nesting in Loops\\nEfficiently Skipping Unnecessary Computations\\n'"
      ]
     },
     "execution_count": 20,
     "metadata": {},
     "output_type": "execute_result"
    }
   ],
   "source": [
    "''' \n",
    "How the continue Statement Works in a Loop:\n",
    "The continue statement in Python is used to skip the remaining code inside the loop for the current iteration and move directly to the next iteration of the loop.\n",
    "\n",
    "When continue is More Beneficial:\n",
    "Using continue can improve code readability and efficiency in scenarios where skipping specific iterations is necessary. Some examples include:\n",
    "\n",
    "Skipping Specific Values in a Loop\n",
    "Skipping Empty or Invalid Inputs\n",
    "Reducing Nesting in Loops\n",
    "Efficiently Skipping Unnecessary Computations\n",
    "'''"
   ]
  },
  {
   "cell_type": "markdown",
   "metadata": {},
   "source": [
    " Coding Challenge:  Write a Python program that iterates through a list \n",
    "of numbers and prints only those numbers that are divisible by 3, using \n",
    "the `continue` statement. "
   ]
  },
  {
   "cell_type": "code",
   "execution_count": 22,
   "metadata": {},
   "outputs": [
    {
     "name": "stdout",
     "output_type": "stream",
     "text": [
      "15\n",
      "21\n",
      "33\n",
      "45\n",
      "60\n",
      "75\n"
     ]
    }
   ],
   "source": [
    "numbers = [10, 15, 21, 33, 40, 45, 50, 60, 75, 82]\n",
    "\n",
    "for i in numbers:\n",
    "    if(i%3!=0):\n",
    "        continue\n",
    "    else:\n",
    "        print(i)\n"
   ]
  },
  {
   "cell_type": "markdown",
   "metadata": {},
   "source": [
    "Q.3. Use list comprehension to generate all Pythagorean triplets (a, b, c) \n",
    "where a² + b² = c² and a, b, c ≤ 50. "
   ]
  },
  {
   "cell_type": "code",
   "execution_count": 24,
   "metadata": {},
   "outputs": [],
   "source": [
    "pythagorean = [(a,b,c) for a in range(1,51) for b in range(1,51) for c in range(1,51) if a**2 + b**2 == c**2]"
   ]
  },
  {
   "cell_type": "code",
   "execution_count": 25,
   "metadata": {},
   "outputs": [
    {
     "name": "stdout",
     "output_type": "stream",
     "text": [
      "[(3, 4, 5), (4, 3, 5), (5, 12, 13), (6, 8, 10), (7, 24, 25), (8, 6, 10), (8, 15, 17), (9, 12, 15), (9, 40, 41), (10, 24, 26), (12, 5, 13), (12, 9, 15), (12, 16, 20), (12, 35, 37), (14, 48, 50), (15, 8, 17), (15, 20, 25), (15, 36, 39), (16, 12, 20), (16, 30, 34), (18, 24, 30), (20, 15, 25), (20, 21, 29), (21, 20, 29), (21, 28, 35), (24, 7, 25), (24, 10, 26), (24, 18, 30), (24, 32, 40), (27, 36, 45), (28, 21, 35), (30, 16, 34), (30, 40, 50), (32, 24, 40), (35, 12, 37), (36, 15, 39), (36, 27, 45), (40, 9, 41), (40, 30, 50), (48, 14, 50)]\n"
     ]
    }
   ],
   "source": [
    "print(pythagorean)"
   ]
  },
  {
   "cell_type": "markdown",
   "metadata": {},
   "source": [
    "Q.4. Write a function max_consecutive_sum(nums, k) that finds the \n",
    "maximum sum of k consecutive elements in a list. "
   ]
  },
  {
   "cell_type": "code",
   "execution_count": 26,
   "metadata": {},
   "outputs": [],
   "source": [
    "def max_consecutive_sum(nums, k):\n",
    "    return max(sum(nums[i:i+k]) for i in range(len(nums)-k+1))"
   ]
  },
  {
   "cell_type": "code",
   "execution_count": 27,
   "metadata": {},
   "outputs": [],
   "source": [
    "nums = [1,8,4,9,6,54,78,95,45]\n",
    "k=5"
   ]
  },
  {
   "cell_type": "code",
   "execution_count": 29,
   "metadata": {},
   "outputs": [
    {
     "name": "stdout",
     "output_type": "stream",
     "text": [
      "278\n"
     ]
    }
   ],
   "source": [
    "print(max_consecutive_sum(nums,k))"
   ]
  },
  {
   "cell_type": "markdown",
   "metadata": {},
   "source": [
    "Q.5. . Write a function that takes a list as an argument and modifies it by \n",
    "appending a new item. Demonstrate how changes to the list inside the \n",
    "function affect the list outside the function. "
   ]
  },
  {
   "cell_type": "code",
   "execution_count": 30,
   "metadata": {},
   "outputs": [],
   "source": [
    "def modify_list(lst,item):\n",
    "    lst.append(item)"
   ]
  },
  {
   "cell_type": "code",
   "execution_count": 31,
   "metadata": {},
   "outputs": [],
   "source": [
    "lst = [1,5,6,38,4]\n",
    "item = 1000\n",
    "modify_list(lst,item)"
   ]
  },
  {
   "cell_type": "code",
   "execution_count": 32,
   "metadata": {},
   "outputs": [
    {
     "name": "stdout",
     "output_type": "stream",
     "text": [
      "[1, 5, 6, 38, 4, 1000]\n"
     ]
    }
   ],
   "source": [
    "print(lst)"
   ]
  },
  {
   "cell_type": "markdown",
   "metadata": {},
   "source": [
    "Q.6. Take a number as input and print the Fibonacci sequence up to that \n",
    "many terms using User-defined functions. "
   ]
  },
  {
   "cell_type": "code",
   "execution_count": 49,
   "metadata": {},
   "outputs": [],
   "source": [
    "def fibonacci(n):\n",
    "    a=1\n",
    "    b=1\n",
    "    sum = 0\n",
    "    if(n<=2):\n",
    "        for j in range(1,3):\n",
    "            print(1)\n",
    "    else:\n",
    "        for j in range(1,3):\n",
    "            print(1)\n",
    "        \n",
    "        for i in range(1,n-2+1):\n",
    "            sum = a + b\n",
    "            a = b\n",
    "            b = sum\n",
    "    \n",
    "            print(b)"
   ]
  },
  {
   "cell_type": "code",
   "execution_count": 50,
   "metadata": {},
   "outputs": [
    {
     "name": "stdout",
     "output_type": "stream",
     "text": [
      "1\n",
      "1\n",
      "2\n",
      "3\n",
      "5\n"
     ]
    }
   ],
   "source": [
    "fibonacci(5)"
   ]
  },
  {
   "cell_type": "code",
   "execution_count": null,
   "metadata": {},
   "outputs": [],
   "source": []
  }
 ],
 "metadata": {
  "kernelspec": {
   "display_name": "Python 3",
   "language": "python",
   "name": "python3"
  },
  "language_info": {
   "codemirror_mode": {
    "name": "ipython",
    "version": 3
   },
   "file_extension": ".py",
   "mimetype": "text/x-python",
   "name": "python",
   "nbconvert_exporter": "python",
   "pygments_lexer": "ipython3",
   "version": "3.12.4"
  }
 },
 "nbformat": 4,
 "nbformat_minor": 2
}
