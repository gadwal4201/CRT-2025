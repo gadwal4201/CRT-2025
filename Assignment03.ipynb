{
 "cells": [
  {
   "cell_type": "markdown",
   "metadata": {},
   "source": [
    "Q.1. Write a lambda function to merge two lists into a dictionary where \n",
    "one list represents keys and the other represents values. "
   ]
  },
  {
   "cell_type": "code",
   "execution_count": 2,
   "metadata": {},
   "outputs": [
    {
     "name": "stdout",
     "output_type": "stream",
     "text": [
      "{'a': 1, 'b': 2, 'c': 3}\n"
     ]
    }
   ],
   "source": [
    "merge_lists = lambda keys, values: dict(zip(keys, values))\n",
    "\n",
    "keys = ['a', 'b', 'c']\n",
    "values = [1, 2, 3]\n",
    "result = merge_lists(keys, values)\n",
    "print(result)"
   ]
  },
  {
   "cell_type": "markdown",
   "metadata": {},
   "source": [
    "Q.2. Create a class Product with instance variables name and price. Also, \n",
    "add a class variable discount_rate and a method to calculate the \n",
    "discounted price."
   ]
  },
  {
   "cell_type": "code",
   "execution_count": 3,
   "metadata": {},
   "outputs": [
    {
     "name": "stdout",
     "output_type": "stream",
     "text": [
      "45000.0\n"
     ]
    }
   ],
   "source": [
    "class Product:\n",
    "    discount_rate = 0.10  # Class variable\n",
    "    \n",
    "    def __init__(self, name, price):\n",
    "        self.name = name\n",
    "        self.price = price\n",
    "    \n",
    "    def discounted_price(self):\n",
    "        return self.price * (1 - Product.discount_rate)\n",
    "    \n",
    "p = Product(\"Laptop\", 50000)\n",
    "print(p.discounted_price())"
   ]
  },
  {
   "cell_type": "markdown",
   "metadata": {},
   "source": [
    "Q.3. Create a base class Shape with a method area(). Derive two \n",
    "subclasses Circle and Rectangle, each implementing their own area() \n",
    "method. (INHERITANCE)  "
   ]
  },
  {
   "cell_type": "code",
   "execution_count": 4,
   "metadata": {},
   "outputs": [
    {
     "name": "stdout",
     "output_type": "stream",
     "text": [
      "78.53981633974483\n",
      "24\n"
     ]
    }
   ],
   "source": [
    "import math\n",
    "class Shape:\n",
    "    def area(self):\n",
    "        pass\n",
    "\n",
    "class Circle(Shape):\n",
    "    def __init__(self, radius):\n",
    "        self.radius = radius\n",
    "    \n",
    "    def area(self):\n",
    "        return math.pi * self.radius ** 2\n",
    "\n",
    "class Rectangle(Shape):\n",
    "    def __init__(self, width, height):\n",
    "        self.width = width\n",
    "        self.height = height\n",
    "    \n",
    "    def area(self):\n",
    "        return self.width * self.height\n",
    "\n",
    "c = Circle(5)\n",
    "r = Rectangle(4, 6)\n",
    "print(c.area())\n",
    "print(r.area())"
   ]
  },
  {
   "cell_type": "markdown",
   "metadata": {},
   "source": [
    "Q.4. Create two base classes Person and Employee, and derive a class \n",
    "Manager from both. (MULTIPLE INHERITANCE)"
   ]
  },
  {
   "cell_type": "code",
   "execution_count": 5,
   "metadata": {},
   "outputs": [
    {
     "name": "stdout",
     "output_type": "stream",
     "text": [
      "Alice 101 HR\n"
     ]
    }
   ],
   "source": [
    "class Person:\n",
    "    def __init__(self, name):\n",
    "        self.name = name\n",
    "\n",
    "class Employee:\n",
    "    def __init__(self, emp_id):\n",
    "        self.emp_id = emp_id\n",
    "\n",
    "class Manager(Person, Employee):\n",
    "    def __init__(self, name, emp_id, department):\n",
    "        Person.__init__(self, name)\n",
    "        Employee.__init__(self, emp_id)\n",
    "        self.department = department\n",
    "\n",
    "m = Manager(\"Alice\", 101, \"HR\")\n",
    "print(m.name, m.emp_id, m.department)"
   ]
  },
  {
   "cell_type": "markdown",
   "metadata": {},
   "source": [
    "Q.5. Implement a function play_sound() that accepts different animal \n",
    "objects (Dog, Cat, Cow) and calls their make_sound() method \n",
    "dynamically. (POLYMORPHISM)"
   ]
  },
  {
   "cell_type": "code",
   "execution_count": 6,
   "metadata": {},
   "outputs": [
    {
     "name": "stdout",
     "output_type": "stream",
     "text": [
      "Woof!\n",
      "Meow!\n",
      "Moo!\n"
     ]
    }
   ],
   "source": [
    "class Dog:\n",
    "    def make_sound(self):\n",
    "        return \"Woof!\"\n",
    "\n",
    "class Cat:\n",
    "    def make_sound(self):\n",
    "        return \"Meow!\"\n",
    "\n",
    "class Cow:\n",
    "    def make_sound(self):\n",
    "        return \"Moo!\"\n",
    "\n",
    "def play_sound(animal):\n",
    "    print(animal.make_sound())\n",
    "\n",
    "animals = [Dog(), Cat(), Cow()]\n",
    "for animal in animals:\n",
    "    play_sound(animal)"
   ]
  },
  {
   "cell_type": "markdown",
   "metadata": {},
   "source": [
    "Q.6. Design a Car Rental System using Object-Oriented Programming \n",
    "(OOP) in Python. The system should include a Vehicle class and \n",
    "derived classes Car and Bike. Implement constructors and use \n",
    "inheritance to manage common and specific attributes. "
   ]
  },
  {
   "cell_type": "code",
   "execution_count": 7,
   "metadata": {},
   "outputs": [
    {
     "name": "stdout",
     "output_type": "stream",
     "text": [
      "Toyota Camry - Rental Price: 5000 per day, Doors: 4\n",
      "Yamaha MT-15 - Rental Price: 1500 per day, Type: Sport\n"
     ]
    }
   ],
   "source": [
    "class Vehicle:\n",
    "    def __init__(self, brand, model, rental_price):\n",
    "        self.brand = brand\n",
    "        self.model = model\n",
    "        self.rental_price = rental_price\n",
    "    \n",
    "    def display_info(self):\n",
    "        return f\"{self.brand} {self.model} - Rental Price: {self.rental_price} per day\"\n",
    "\n",
    "class Car(Vehicle):\n",
    "    def __init__(self, brand, model, rental_price, doors):\n",
    "        super().__init__(brand, model, rental_price)\n",
    "        self.doors = doors\n",
    "    \n",
    "    def display_info(self):\n",
    "        return super().display_info() + f\", Doors: {self.doors}\"\n",
    "\n",
    "class Bike(Vehicle):\n",
    "    def __init__(self, brand, model, rental_price, type_):\n",
    "        super().__init__(brand, model, rental_price)\n",
    "        self.type_ = type_\n",
    "    \n",
    "    def display_info(self):\n",
    "        return super().display_info() + f\", Type: {self.type_}\"\n",
    "\n",
    "car = Car(\"Toyota\", \"Camry\", 5000, 4)\n",
    "bike = Bike(\"Yamaha\", \"MT-15\", 1500, \"Sport\")\n",
    "print(car.display_info())\n",
    "print(bike.display_info())\n"
   ]
  },
  {
   "cell_type": "code",
   "execution_count": null,
   "metadata": {},
   "outputs": [],
   "source": []
  }
 ],
 "metadata": {
  "kernelspec": {
   "display_name": "Python 3",
   "language": "python",
   "name": "python3"
  },
  "language_info": {
   "codemirror_mode": {
    "name": "ipython",
    "version": 3
   },
   "file_extension": ".py",
   "mimetype": "text/x-python",
   "name": "python",
   "nbconvert_exporter": "python",
   "pygments_lexer": "ipython3",
   "version": "3.12.4"
  }
 },
 "nbformat": 4,
 "nbformat_minor": 2
}
