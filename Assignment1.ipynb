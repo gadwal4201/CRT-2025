{
 "cells": [
  {
   "cell_type": "markdown",
   "metadata": {},
   "source": [
    "Python : Data types and operators, Conditional Statement"
   ]
  },
  {
   "cell_type": "markdown",
   "metadata": {},
   "source": [
    "\n",
    "Q.1. How do lists and tuples differ in terms of mutability and \n",
    "performance? When would you choose one over the other?\n",
    "\n"
   ]
  },
  {
   "cell_type": "code",
   "execution_count": null,
   "metadata": {},
   "outputs": [],
   "source": [
    "''' \n",
    "Lists and tuples in Python differ in terms of **mutability** and **performance**:\n",
    "\n",
    "### 1. **Mutability:**\n",
    "   - **Lists** are **mutable**, meaning that their elements can be changed after the list is created. You can add, remove, or modify items in a list.\n",
    "   - **Tuples** are **immutable**, meaning that once a tuple is created, its elements cannot be changed. You cannot add, remove, or modify items in a tuple.\n",
    "\n",
    "### 2. **Performance:**\n",
    "   - **Tuples** are generally faster than lists in terms of both memory and performance, especially when it comes to iteration. This is because of their immutability—since their structure is fixed, Python can optimize memory storage and access for tuples.\n",
    "   - **Lists**, being mutable, have more overhead for managing changes, which makes them slightly slower compared to tuples.\n",
    "\n",
    "### 3. **When to Choose One Over the Other:**\n",
    "   - **Choose a tuple** when:\n",
    "     - You want to ensure that the data cannot be modified, ensuring integrity (for example, when representing fixed collections like coordinates or keys in dictionaries).\n",
    "     - You need faster access and iteration for fixed data.\n",
    "     - You want to use the collection as a dictionary key (since tuples are hashable, but lists are not).\n",
    "   \n",
    "   - **Choose a list** when:\n",
    "     - You need to modify, add, or remove elements from the collection.\n",
    "     - You need a dynamic-sized container that can grow and shrink.\n",
    "     - The collection will be frequently updated or modified during the program's execution.\n",
    "\n",
    "In summary, use **lists** for mutable, dynamic collections of data, and use **tuples** for immutable, fixed collections that need to be faster and more memory-efficient.\n",
    "'''"
   ]
  },
  {
   "cell_type": "markdown",
   "metadata": {},
   "source": [
    "Q.2. Explain how Python handles type conversion between different data \n",
    "types, such as between integers and floats or between strings and \n",
    "lists"
   ]
  },
  {
   "cell_type": "code",
   "execution_count": 2,
   "metadata": {},
   "outputs": [
    {
     "name": "stdout",
     "output_type": "stream",
     "text": [
      "12.5 <class 'float'>\n",
      "6\n"
     ]
    }
   ],
   "source": [
    "''' \n",
    "Python handles type conversion in two ways:\n",
    "\n",
    "1. Implicit Type Conversion (Type Coercion)\n",
    "Python automatically converts one data type to another when needed.\n",
    "\n",
    "Examples:\n",
    "Integer to Float conversion:\n",
    "'''\n",
    "a = 10   # Integer\n",
    "b = 2.5  # Float\n",
    "c = a + b  # Implicit conversion of 'a' to float\n",
    "print(c, type(c))  # Output: 12.5 <class 'float'>\n",
    "\n",
    "#Boolean to Integer:\n",
    "x = True + 5  \n",
    "print(x)  # Output: 6 (True is treated as 1)\n"
   ]
  },
  {
   "cell_type": "code",
   "execution_count": 3,
   "metadata": {},
   "outputs": [
    {
     "name": "stdout",
     "output_type": "stream",
     "text": [
      "5.0 <class 'float'>\n",
      "4 <class 'int'>\n",
      "123 <class 'int'>\n",
      "45.67 <class 'float'>\n",
      "100 <class 'str'>\n",
      "['h', 'e', 'l', 'l', 'o']\n",
      "hello\n",
      "(1, 2, 3)\n",
      "[1, 2, 3]\n"
     ]
    }
   ],
   "source": [
    "''' \n",
    "2. Explicit Type Conversion (Type Casting)\n",
    "Python provides built-in functions to convert data types manually.\n",
    "\n",
    "Common Type Conversions:\n",
    "Integer to Float and vice versa:'''\n",
    "x = 5  # Integer\n",
    "y = float(x)  # Converts to float\n",
    "print(y, type(y))  # Output: 5.0 <class 'float'>\n",
    "\n",
    "z = int(4.9)  # Converts float to integer (truncates)\n",
    "print(z, type(z))  # Output: 4 <class 'int'>\n",
    "\n",
    "#String to Integer/Float:\n",
    "\n",
    "s = \"123\"\n",
    "num = int(s)  # Converts to integer\n",
    "print(num, type(num))  # Output: 123 <class 'int'>\n",
    "\n",
    "f = float(\"45.67\")  # Converts to float\n",
    "print(f, type(f))  # Output: 45.67 <class 'float'>\n",
    "\n",
    "#Integer/Float to String:\n",
    "\n",
    "n = 100\n",
    "s = str(n)  # Converts to string\n",
    "print(s, type(s))  # Output: \"100\" <class 'str'>\n",
    "\n",
    "#String to List and vice versa:\n",
    "\n",
    "text = \"hello\"\n",
    "lst = list(text)  # Converts string to list\n",
    "print(lst)  # Output: ['h', 'e', 'l', 'l', 'o']\n",
    "\n",
    "word = ''.join(lst)  # Converts list to string\n",
    "print(word)  # Output: \"hello\"\n",
    "\n",
    "\n",
    "#List to Tuple and vice versa:\n",
    "\n",
    "lst = [1, 2, 3]\n",
    "tpl = tuple(lst)  # Converts list to tuple\n",
    "print(tpl)  # Output: (1, 2, 3)\n",
    "\n",
    "new_lst = list(tpl)  # Converts tuple to list\n",
    "print(new_lst)  # Output: [1, 2, 3]\n",
    "\n"
   ]
  },
  {
   "cell_type": "markdown",
   "metadata": {},
   "source": [
    "Q.3. Take a number and use the += operator to increase its value by 10. "
   ]
  },
  {
   "cell_type": "code",
   "execution_count": 4,
   "metadata": {},
   "outputs": [
    {
     "name": "stdout",
     "output_type": "stream",
     "text": [
      "15\n"
     ]
    }
   ],
   "source": [
    "num = int(input(\"Enter a positive number : \"))\n",
    "\n",
    "num += 10\n",
    "\n",
    "print(num)"
   ]
  },
  {
   "cell_type": "markdown",
   "metadata": {},
   "source": [
    "Q.4. Write a Python program to check if a given year is a leap year or not."
   ]
  },
  {
   "cell_type": "code",
   "execution_count": 7,
   "metadata": {},
   "outputs": [
    {
     "name": "stdout",
     "output_type": "stream",
     "text": [
      "1996  is a Leap year\n"
     ]
    }
   ],
   "source": [
    "year = int(input(\"Enter year to check leap year or not : \"))\n",
    "\n",
    "if(year%400==0) or (year%4==0 and year%100!=0):\n",
    "    print(year,\" is a Leap year\")\n",
    "    \n",
    "else:\n",
    "    print(year,\" is not a leap year\")"
   ]
  },
  {
   "cell_type": "markdown",
   "metadata": {},
   "source": [
    "Q.5.  Write a program that asks the user to enter their marks and displays \n",
    "their grade: \n",
    "• 90-100: A \n",
    "• 80-89: B \n",
    "• 70-79: C \n",
    "• 60-69: D \n",
    "• Below 60: F "
   ]
  },
  {
   "cell_type": "code",
   "execution_count": 10,
   "metadata": {},
   "outputs": [
    {
     "name": "stdout",
     "output_type": "stream",
     "text": [
      "Grade A\n"
     ]
    }
   ],
   "source": [
    "marks = int(input(\"Enter your marks (0-100): \"))\n",
    "\n",
    "if (marks>=90 and marks<=100):\n",
    "    print(\"Grade A\")\n",
    "elif(marks>=80 and marks<90):\n",
    "    print(\"Grade B\")\n",
    "elif(marks>=70 and marks<80):\n",
    "    print(\"Grade C\")\n",
    "elif(marks>=60 and marks<70):\n",
    "    print(\"Grade D\")\n",
    "else:\n",
    "    print(\"Grade F\")"
   ]
  },
  {
   "cell_type": "code",
   "execution_count": null,
   "metadata": {},
   "outputs": [],
   "source": []
  }
 ],
 "metadata": {
  "kernelspec": {
   "display_name": "Python 3",
   "language": "python",
   "name": "python3"
  },
  "language_info": {
   "codemirror_mode": {
    "name": "ipython",
    "version": 3
   },
   "file_extension": ".py",
   "mimetype": "text/x-python",
   "name": "python",
   "nbconvert_exporter": "python",
   "pygments_lexer": "ipython3",
   "version": "3.12.4"
  }
 },
 "nbformat": 4,
 "nbformat_minor": 2
}
